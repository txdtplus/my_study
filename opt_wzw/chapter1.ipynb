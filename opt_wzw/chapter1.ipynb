{
 "cells": [
  {
   "cell_type": "code",
   "execution_count": 47,
   "metadata": {},
   "outputs": [
    {
     "ename": "KeyboardInterrupt",
     "evalue": "",
     "output_type": "error",
     "traceback": [
      "\u001b[1;31m---------------------------------------------------------------------------\u001b[0m",
      "\u001b[1;31mKeyboardInterrupt\u001b[0m                         Traceback (most recent call last)",
      "Cell \u001b[1;32mIn[47], line 13\u001b[0m\n\u001b[0;32m     10\u001b[0m z2 \u001b[39m=\u001b[39m np\u001b[39m.\u001b[39mpower(np\u001b[39m.\u001b[39mabs(x),\u001b[39m3\u001b[39m) \u001b[39m+\u001b[39m np\u001b[39m.\u001b[39mpower(np\u001b[39m.\u001b[39mabs(y),\u001b[39m3\u001b[39m)\n\u001b[0;32m     12\u001b[0m f1 \u001b[39m=\u001b[39m plt\u001b[39m.\u001b[39mfigure()\n\u001b[1;32m---> 13\u001b[0m ax \u001b[39m=\u001b[39m plt\u001b[39m.\u001b[39mgca()    \u001b[39m# 得到图像的Axes对象\u001b[39;00m\n\u001b[0;32m     14\u001b[0m ax\u001b[39m.\u001b[39mspines[\u001b[39m'\u001b[39m\u001b[39mright\u001b[39m\u001b[39m'\u001b[39m]\u001b[39m.\u001b[39mset_color(\u001b[39m'\u001b[39m\u001b[39mnone\u001b[39m\u001b[39m'\u001b[39m)   \u001b[39m# 将图像右边的轴设为透明\u001b[39;00m\n\u001b[0;32m     15\u001b[0m ax\u001b[39m.\u001b[39mspines[\u001b[39m'\u001b[39m\u001b[39mtop\u001b[39m\u001b[39m'\u001b[39m]\u001b[39m.\u001b[39mset_color(\u001b[39m'\u001b[39m\u001b[39mnone\u001b[39m\u001b[39m'\u001b[39m)     \u001b[39m# 将图像上面的轴设为透明\u001b[39;00m\n",
      "Cell \u001b[1;32mIn[47], line 13\u001b[0m\n\u001b[0;32m     10\u001b[0m z2 \u001b[39m=\u001b[39m np\u001b[39m.\u001b[39mpower(np\u001b[39m.\u001b[39mabs(x),\u001b[39m3\u001b[39m) \u001b[39m+\u001b[39m np\u001b[39m.\u001b[39mpower(np\u001b[39m.\u001b[39mabs(y),\u001b[39m3\u001b[39m)\n\u001b[0;32m     12\u001b[0m f1 \u001b[39m=\u001b[39m plt\u001b[39m.\u001b[39mfigure()\n\u001b[1;32m---> 13\u001b[0m ax \u001b[39m=\u001b[39m plt\u001b[39m.\u001b[39mgca()    \u001b[39m# 得到图像的Axes对象\u001b[39;00m\n\u001b[0;32m     14\u001b[0m ax\u001b[39m.\u001b[39mspines[\u001b[39m'\u001b[39m\u001b[39mright\u001b[39m\u001b[39m'\u001b[39m]\u001b[39m.\u001b[39mset_color(\u001b[39m'\u001b[39m\u001b[39mnone\u001b[39m\u001b[39m'\u001b[39m)   \u001b[39m# 将图像右边的轴设为透明\u001b[39;00m\n\u001b[0;32m     15\u001b[0m ax\u001b[39m.\u001b[39mspines[\u001b[39m'\u001b[39m\u001b[39mtop\u001b[39m\u001b[39m'\u001b[39m]\u001b[39m.\u001b[39mset_color(\u001b[39m'\u001b[39m\u001b[39mnone\u001b[39m\u001b[39m'\u001b[39m)     \u001b[39m# 将图像上面的轴设为透明\u001b[39;00m\n",
      "File \u001b[1;32m_pydevd_bundle/pydevd_cython.pyx:1457\u001b[0m, in \u001b[0;36m_pydevd_bundle.pydevd_cython.SafeCallWrapper.__call__\u001b[1;34m()\u001b[0m\n",
      "File \u001b[1;32m_pydevd_bundle/pydevd_cython.pyx:701\u001b[0m, in \u001b[0;36m_pydevd_bundle.pydevd_cython.PyDBFrame.trace_dispatch\u001b[1;34m()\u001b[0m\n",
      "File \u001b[1;32m_pydevd_bundle/pydevd_cython.pyx:1152\u001b[0m, in \u001b[0;36m_pydevd_bundle.pydevd_cython.PyDBFrame.trace_dispatch\u001b[1;34m()\u001b[0m\n",
      "File \u001b[1;32m_pydevd_bundle/pydevd_cython.pyx:1135\u001b[0m, in \u001b[0;36m_pydevd_bundle.pydevd_cython.PyDBFrame.trace_dispatch\u001b[1;34m()\u001b[0m\n",
      "File \u001b[1;32m_pydevd_bundle/pydevd_cython.pyx:312\u001b[0m, in \u001b[0;36m_pydevd_bundle.pydevd_cython.PyDBFrame.do_wait_suspend\u001b[1;34m()\u001b[0m\n",
      "File \u001b[1;32mc:\\Users\\zhang\\miniconda3\\envs\\d2l\\lib\\site-packages\\debugpy\\_vendored\\pydevd\\pydevd.py:2070\u001b[0m, in \u001b[0;36mPyDB.do_wait_suspend\u001b[1;34m(self, thread, frame, event, arg, exception_type)\u001b[0m\n\u001b[0;32m   2067\u001b[0m             from_this_thread\u001b[39m.\u001b[39mappend(frame_custom_thread_id)\n\u001b[0;32m   2069\u001b[0m     \u001b[39mwith\u001b[39;00m \u001b[39mself\u001b[39m\u001b[39m.\u001b[39m_threads_suspended_single_notification\u001b[39m.\u001b[39mnotify_thread_suspended(thread_id, thread, stop_reason):\n\u001b[1;32m-> 2070\u001b[0m         keep_suspended \u001b[39m=\u001b[39m \u001b[39mself\u001b[39;49m\u001b[39m.\u001b[39;49m_do_wait_suspend(thread, frame, event, arg, suspend_type, from_this_thread, frames_tracker)\n\u001b[0;32m   2072\u001b[0m frames_list \u001b[39m=\u001b[39m \u001b[39mNone\u001b[39;00m\n\u001b[0;32m   2074\u001b[0m \u001b[39mif\u001b[39;00m keep_suspended:\n\u001b[0;32m   2075\u001b[0m     \u001b[39m# This means that we should pause again after a set next statement.\u001b[39;00m\n",
      "File \u001b[1;32mc:\\Users\\zhang\\miniconda3\\envs\\d2l\\lib\\site-packages\\debugpy\\_vendored\\pydevd\\pydevd.py:2106\u001b[0m, in \u001b[0;36mPyDB._do_wait_suspend\u001b[1;34m(self, thread, frame, event, arg, suspend_type, from_this_thread, frames_tracker)\u001b[0m\n\u001b[0;32m   2103\u001b[0m         \u001b[39mself\u001b[39m\u001b[39m.\u001b[39m_call_input_hook()\n\u001b[0;32m   2105\u001b[0m     \u001b[39mself\u001b[39m\u001b[39m.\u001b[39mprocess_internal_commands()\n\u001b[1;32m-> 2106\u001b[0m     time\u001b[39m.\u001b[39;49msleep(\u001b[39m0.01\u001b[39;49m)\n\u001b[0;32m   2108\u001b[0m \u001b[39mself\u001b[39m\u001b[39m.\u001b[39mcancel_async_evaluation(get_current_thread_id(thread), \u001b[39mstr\u001b[39m(\u001b[39mid\u001b[39m(frame)))\n\u001b[0;32m   2110\u001b[0m \u001b[39m# process any stepping instructions\u001b[39;00m\n",
      "\u001b[1;31mKeyboardInterrupt\u001b[0m: "
     ]
    },
    {
     "data": {
      "text/plain": [
       "<Figure size 640x480 with 0 Axes>"
      ]
     },
     "metadata": {},
     "output_type": "display_data"
    }
   ],
   "source": [
    "import numpy as np\n",
    "import matplotlib.pyplot as plt\n",
    "\n",
    "x = np.arange(-2,2,0.01)\n",
    "y = np.arange(-2,2,0.01)\n",
    "\n",
    "p = 0.9\n",
    "x,y = np.meshgrid(x,y)\n",
    "z1 = np.power(np.abs(x),p) + np.power(np.abs(y),p)\n",
    "z2 = np.power(np.abs(x),3) + np.power(np.abs(y),3)\n",
    "\n",
    "f1 = plt.figure()\n",
    "ax = plt.gca()    # 得到图像的Axes对象\n",
    "ax.spines['right'].set_color('none')   # 将图像右边的轴设为透明\n",
    "ax.spines['top'].set_color('none')     # 将图像上面的轴设为透明\n",
    "ax.xaxis.set_ticks_position('bottom')    # 将x轴刻度设在下面的坐标轴上\n",
    "ax.yaxis.set_ticks_position('left')         # 将y轴刻度设在左边的坐标轴上\n",
    "ax.spines['bottom'].set_position(('data', 0))   # 将两个坐标轴的位置设在数据点原点\n",
    "ax.spines['left'].set_position(('data', 0))\n",
    "ax.set_aspect(1)\n",
    "\n",
    "plt.xlim(-3,3)\n",
    "plt.ylim(-3,3)\n",
    "plt.contour(x,y,z1,[2])\n",
    "plt.show()\n",
    "\n",
    "f2 = plt.figure()\n",
    "plt.xlim(-3,3)\n",
    "plt.ylim(-3,3)\n",
    "plt.contour(x,y,z2,[2])\n",
    "plt.show()\n"
   ]
  }
 ],
 "metadata": {
  "kernelspec": {
   "display_name": "d2l",
   "language": "python",
   "name": "python3"
  },
  "language_info": {
   "codemirror_mode": {
    "name": "ipython",
    "version": 3
   },
   "file_extension": ".py",
   "mimetype": "text/x-python",
   "name": "python",
   "nbconvert_exporter": "python",
   "pygments_lexer": "ipython3",
   "version": "3.10.11"
  },
  "orig_nbformat": 4
 },
 "nbformat": 4,
 "nbformat_minor": 2
}

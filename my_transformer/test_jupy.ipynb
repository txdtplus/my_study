{
 "cells": [
  {
   "cell_type": "code",
   "execution_count": 20,
   "metadata": {},
   "outputs": [
    {
     "name": "stdout",
     "output_type": "stream",
     "text": [
      "tensor([[-1.0689,  0.2372, -1.2579, -0.8923, -0.2964],\n",
      "        [ 0.4726, -0.3598, -0.1724,  0.0053, -0.4931],\n",
      "        [ 0.1599, -0.9100, -0.3048,  0.7836,  0.3549]], requires_grad=True)\n",
      "OK\n"
     ]
    }
   ],
   "source": [
    "import torch\n",
    "import torch.nn as nn\n",
    "import torch.nn.functional as F\n",
    "import pprint\n",
    " \n",
    "import math\n",
    "\n",
    "\n",
    "# Example of target with class indices\n",
    "loss = nn.CrossEntropyLoss()\n",
    "input = torch.randn(3, 5, requires_grad=True)\n",
    "target = torch.empty(3, dtype=torch.long).random_(5)\n",
    "output = loss(input, target)\n",
    "output.backward()\n",
    "\n",
    "\n",
    "# Example of NLP\n",
    "output = torch.randn(4, 10, 25)     # [batch_size, num_embeddings, sentence_length] num_embeddings: the number of classes\n",
    "target = torch.empty(4, 25, dtype=torch.long).random_(5)\n",
    "criterion = nn.CrossEntropyLoss()\n",
    "loss = criterion(output, target)\n",
    "\n",
    "# Example of image segmentation\n",
    "output = torch.randn(4, 10, 25, 30)     # [batch_size, channels, height, weights] channels: the number of classes\n",
    "target = torch.empty(4, 25, 30, dtype=torch.long).random_(10)\n",
    "criterion = nn.CrossEntropyLoss()\n",
    "loss = criterion(output, target)\n",
    "\n",
    "pp = pprint.PrettyPrinter(indent=4)\n",
    "pp.pprint(input)\n",
    "\n",
    "a = torch.tensor([[1]])\n",
    "if torch.ne(a, 2):\n",
    "    print(\"OK\")"
   ]
  }
 ],
 "metadata": {
  "kernelspec": {
   "display_name": "d2l",
   "language": "python",
   "name": "python3"
  },
  "language_info": {
   "codemirror_mode": {
    "name": "ipython",
    "version": 3
   },
   "file_extension": ".py",
   "mimetype": "text/x-python",
   "name": "python",
   "nbconvert_exporter": "python",
   "pygments_lexer": "ipython3",
   "version": "3.10.12"
  },
  "orig_nbformat": 4
 },
 "nbformat": 4,
 "nbformat_minor": 2
}
